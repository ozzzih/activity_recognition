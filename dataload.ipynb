{
 "cells": [
  {
   "cell_type": "code",
   "execution_count": 1,
   "metadata": {},
   "outputs": [],
   "source": [
    "import numpy as np\n",
    "import pandas as pd\n",
    "from tqdm.notebook import tqdm"
   ]
  },
  {
   "cell_type": "code",
   "execution_count": 10,
   "metadata": {},
   "outputs": [],
   "source": [
    "def prepare_data(data_dir, file_names, length, overlap):\n",
    "    #data_dir은 mat파일이 있는 곳에다가 설정해야함\n",
    "    xdata=[]\n",
    "    ydata=[]\n",
    "    for file in tqdm(file_names): \n",
    "        temp = matfile[file]\n",
    "        label = temp[0][2][0]\n",
    "        label_idx = temp[0][3][0]\n",
    "        for i in range(len(label)):\n",
    "            sensor_data = pd.DataFrame(temp[0][0])\n",
    "            sensor_data['labels'] = 0\n",
    "            start = label_idx[i * 2] - 1\n",
    "            end = label_idx[(i * 2) + 1] - 1\n",
    "            activity=str(label[i].item())\n",
    "            sensor_data.loc[start:end, 'labels'] = str(label[i].item())\n",
    "            indexNames = sensor_data[sensor_data['labels'] == 0].index\n",
    "            sensor_data.drop(indexNames , inplace=True)\n",
    "            xtemp , ytemp = create_windows(data_dir,sensor_data, start, end, activity, length, overlap)\n",
    "            xdata.extend(xtemp)\n",
    "            ydata.extend(ytemp)\n",
    "    return np.array(xdata),np.array(ydata)"
   ]
  },
  {
   "cell_type": "code",
   "execution_count": 14,
   "metadata": {},
   "outputs": [],
   "source": [
    "def create_windows(data_dir,sensor_data, start, end, activity, length, overlap):\n",
    "    \n",
    "    \n",
    "    acc_data = sensor_data.iloc[:,1:4]\n",
    "    gyro_data = sensor_data.iloc[:,4:7]\n",
    "    \n",
    "    \n",
    "    \n",
    "    xtrain = []\n",
    "    ytrain = []\n",
    "    \n",
    "    while (start + length <= end) : \n",
    "          \n",
    "        stop = start + length\n",
    "        window = []\n",
    "        \n",
    "        while start != stop :\n",
    "            window.append( [list(acc_data.loc[start,:].values) , list(gyro_data.loc[start,:].values)] )\n",
    "            start += 1\n",
    "        \n",
    "        window=np.array(window)\n",
    "        xtrain.append(window)\n",
    "        ytrain.append(activity)\n",
    "        \n",
    "        start = stop - overlap\n",
    "\n",
    "    return xtrain,ytrain"
   ]
  },
  {
   "cell_type": "markdown",
   "metadata": {},
   "source": [
    "# V1"
   ]
  },
  {
   "cell_type": "code",
   "execution_count": 25,
   "metadata": {},
   "outputs": [
    {
     "data": {
      "text/plain": [
       "dict_keys(['__header__', '__version__', '__globals__', 'ARS_Maria_Real_Sitting_Heading_2', 'ARS_Maria_Real_Sitting_Heading_3', 'ARS_Maria_Real_Sitting_Heading_4', 'ARS_Maria_FLGUp1', 'ARS_Maria_FLGUp2', 'ARS_Maria_FLGUp3', 'ARS_Maria_FLGUp4', 'ARS_Maria_Jump', 'ARS_Cristina_Test_4_Sensor_Left', 'ARS_Cristina_Test_5_Sensor_Left', 'ARS_Cristina_Test_2_Sensor_Left', 'ARS_Cristina_Test_3_Sensor_Left', 'ARS_Cristina_Test_1_Sensor_Left', 'ARS_Elena_Test_1_Sensor_Right', 'ARS_Elena_Test_2_Sensor_Right', 'ARS_Elena_Test_3_Sensor_Right', 'ARS_Elena_Test_4_Sensor_Right', 'ARS_Elena_Test_5_Sensor_Right', 'ARS_Elena_Walking', 'ARS_Fabian_Test_1_Sensor_Right', 'ARS_Fabian_Test_2_Sensor_Right', 'ARS_Fabian_Test_3_Sensor_Right', 'ARS_Fabian_Test_4_Sensor_Right', 'ARS_Fabian_Test_5_Sensor_Right', 'ARS_Jesus_Test_1_Sensor_Right', 'ARS_Jesus_Test_2_Sensor_Right', 'ARS_Jesus_Test_3_Inverse_Sensor_Right', 'ARS_Jesus_Test_4_Sensor_Right', 'ARS_Jesus_Test_5_Sensor_Right', 'ARS_Korbinian_Test_1_Sensor_Right', 'ARS_Korbinian_Test_3_Sensor_Right', 'ARS_Korbinian_Test_4_Sensor_Right', 'ARS_Korbinian_Test_5_Sensor_Right', 'ARS_Korbinian_Test_2_Sensor_Right', 'ARS_Maria_Falling_Sited_Heading_2', 'ARS_Maria_Falling_Sited_Heading_4', 'ARS_Maria_Real_Lying', 'ARS_Maria_Test_1', 'ARS_Maria_Falling_Sited_Heading_3', 'ARS_Maria_Falling_Sited_Heading_1', 'ARS_Maria_Real_Sitting_Heading_1', 'ARS_Maria_Running_Heading_1', 'ARS_Maria_Running_Heading_2', 'ARS_Maria_Real_Walking_Heading_1', 'ARS_Maria_Real_Walking_Heading_2', 'ARS_Maria_Real_Walking_Heading_3', 'ARS_Maria_Real_Walking_Heading_4', 'ARS_Maria_Real_Walking_Shoes_Sandals', 'ARS_Maria_Walking_Up_Down_Fast', 'ARS_Maria_Walking_Up_Down_Real', 'ARS_Maria_Running', 'ARS_Michael_Test_4_Sensor_Right_Pocket', 'ARS_Michael_Test_5_Sensor_Right_Pocket', 'ARS_Michael_Test_2_Sensor_Right_Pocket', 'ARS_Michael_Test_3_Sensor_Right_Pocket', 'ARS_Michael_Test_1_Sensor_Right_Pocket'])"
      ]
     },
     "execution_count": 25,
     "metadata": {},
     "output_type": "execute_result"
    }
   ],
   "source": [
    "from scipy import io\n",
    "data_dir = 'ARS DLR Data Set/'\n",
    "matfile = io.loadmat(data_dir + 'ARS_DLR_DataSet.mat')\n",
    "matfile.keys()"
   ]
  },
  {
   "cell_type": "code",
   "execution_count": 26,
   "metadata": {},
   "outputs": [
    {
     "data": {
      "text/plain": [
       "['ARS_Maria_Real_Sitting_Heading_2',\n",
       " 'ARS_Maria_Real_Sitting_Heading_3',\n",
       " 'ARS_Maria_Real_Sitting_Heading_4',\n",
       " 'ARS_Maria_FLGUp1',\n",
       " 'ARS_Maria_FLGUp2']"
      ]
     },
     "execution_count": 26,
     "metadata": {},
     "output_type": "execute_result"
    }
   ],
   "source": [
    "files = []\n",
    "for name in list(matfile.keys()):\n",
    "    if name.startswith('ARS'):\n",
    "        files.append(name)\n",
    "files[:5]"
   ]
  },
  {
   "cell_type": "code",
   "execution_count": 27,
   "metadata": {},
   "outputs": [
    {
     "data": {
      "text/plain": [
       "56"
      ]
     },
     "execution_count": 27,
     "metadata": {},
     "output_type": "execute_result"
    }
   ],
   "source": [
    "len(files)"
   ]
  },
  {
   "cell_type": "code",
   "execution_count": 63,
   "metadata": {},
   "outputs": [
    {
     "data": {
      "text/plain": [
       "['ARS_Maria_Real_Sitting_Heading_2',\n",
       " 'ARS_Maria_Real_Sitting_Heading_3',\n",
       " 'ARS_Maria_Real_Sitting_Heading_4',\n",
       " 'ARS_Maria_FLGUp1',\n",
       " 'ARS_Maria_FLGUp2',\n",
       " 'ARS_Maria_FLGUp3',\n",
       " 'ARS_Maria_FLGUp4',\n",
       " 'ARS_Maria_Jump',\n",
       " 'ARS_Cristina_Test_4_Sensor_Left',\n",
       " 'ARS_Cristina_Test_5_Sensor_Left',\n",
       " 'ARS_Cristina_Test_2_Sensor_Left',\n",
       " 'ARS_Cristina_Test_3_Sensor_Left',\n",
       " 'ARS_Cristina_Test_1_Sensor_Left',\n",
       " 'ARS_Elena_Test_1_Sensor_Right',\n",
       " 'ARS_Elena_Test_2_Sensor_Right',\n",
       " 'ARS_Elena_Test_3_Sensor_Right',\n",
       " 'ARS_Elena_Test_4_Sensor_Right',\n",
       " 'ARS_Elena_Test_5_Sensor_Right',\n",
       " 'ARS_Elena_Walking',\n",
       " 'ARS_Fabian_Test_1_Sensor_Right',\n",
       " 'ARS_Fabian_Test_2_Sensor_Right',\n",
       " 'ARS_Fabian_Test_3_Sensor_Right',\n",
       " 'ARS_Fabian_Test_4_Sensor_Right',\n",
       " 'ARS_Fabian_Test_5_Sensor_Right',\n",
       " 'ARS_Jesus_Test_1_Sensor_Right',\n",
       " 'ARS_Jesus_Test_2_Sensor_Right',\n",
       " 'ARS_Jesus_Test_3_Inverse_Sensor_Right',\n",
       " 'ARS_Jesus_Test_4_Sensor_Right',\n",
       " 'ARS_Jesus_Test_5_Sensor_Right',\n",
       " 'ARS_Korbinian_Test_1_Sensor_Right',\n",
       " 'ARS_Korbinian_Test_3_Sensor_Right',\n",
       " 'ARS_Korbinian_Test_4_Sensor_Right',\n",
       " 'ARS_Korbinian_Test_5_Sensor_Right',\n",
       " 'ARS_Korbinian_Test_2_Sensor_Right',\n",
       " 'ARS_Maria_Falling_Sited_Heading_2',\n",
       " 'ARS_Maria_Falling_Sited_Heading_4',\n",
       " 'ARS_Maria_Real_Lying',\n",
       " 'ARS_Maria_Test_1',\n",
       " 'ARS_Maria_Falling_Sited_Heading_3',\n",
       " 'ARS_Maria_Falling_Sited_Heading_1',\n",
       " 'ARS_Maria_Real_Sitting_Heading_1',\n",
       " 'ARS_Maria_Running_Heading_1',\n",
       " 'ARS_Maria_Running_Heading_2',\n",
       " 'ARS_Maria_Real_Walking_Heading_1',\n",
       " 'ARS_Maria_Real_Walking_Heading_2',\n",
       " 'ARS_Maria_Real_Walking_Heading_3',\n",
       " 'ARS_Maria_Real_Walking_Heading_4',\n",
       " 'ARS_Maria_Real_Walking_Shoes_Sandals',\n",
       " 'ARS_Maria_Walking_Up_Down_Fast',\n",
       " 'ARS_Maria_Walking_Up_Down_Real',\n",
       " 'ARS_Maria_Running',\n",
       " 'ARS_Michael_Test_4_Sensor_Right_Pocket',\n",
       " 'ARS_Michael_Test_5_Sensor_Right_Pocket',\n",
       " 'ARS_Michael_Test_2_Sensor_Right_Pocket',\n",
       " 'ARS_Michael_Test_3_Sensor_Right_Pocket',\n",
       " 'ARS_Michael_Test_1_Sensor_Right_Pocket']"
      ]
     },
     "execution_count": 63,
     "metadata": {},
     "output_type": "execute_result"
    }
   ],
   "source": [
    "file_names"
   ]
  },
  {
   "cell_type": "code",
   "execution_count": 15,
   "metadata": {
    "scrolled": true
   },
   "outputs": [
    {
     "data": {
      "application/vnd.jupyter.widget-view+json": {
       "model_id": "0d1f071a1e5242daa78370dffbdaf42f",
       "version_major": 2,
       "version_minor": 0
      },
      "text/plain": [
       "  0%|          | 0/56 [00:00<?, ?it/s]"
      ]
     },
     "metadata": {},
     "output_type": "display_data"
    }
   ],
   "source": [
    "xtrain1,ytrain1 = prepare_data(data_dir='ARS DLR Data Set/', file_names=files, length=128, overlap=64)"
   ]
  },
  {
   "cell_type": "code",
   "execution_count": 16,
   "metadata": {},
   "outputs": [
    {
     "data": {
      "text/plain": [
       "((12527, 128, 2, 3), (12527,))"
      ]
     },
     "execution_count": 16,
     "metadata": {},
     "output_type": "execute_result"
    }
   ],
   "source": [
    "xtrain1.shape, ytrain1.shape"
   ]
  },
  {
   "cell_type": "markdown",
   "metadata": {},
   "source": [
    "# V2"
   ]
  },
  {
   "cell_type": "code",
   "execution_count": 17,
   "metadata": {},
   "outputs": [
    {
     "data": {
      "text/plain": [
       "dict_keys(['__header__', '__version__', '__globals__', 'ARS_Maria_Transitions_Up_Down_Sensor_Left', 'ARS_Cristina_Test_JmpFall_Sensor_Right', 'ARS_Cristina_Test_StSit_Sensor_Right', 'ARS_Hanno_Test_JmpFall_Sensor_Right', 'ARS_Hanno_Test_StSit_Sensor_Right', 'ARS_Hanno_Test_WkRun_Sensor_Right', 'ARS_Maria_Test_JmpFall_Sensor_Left', 'ARS_Maria_Test_StSit_Sensor_Left', 'ARS_Maria_Test_WkRun_Sensor_Left', 'ARS_Marina_Test_WkRun_Sensor_Right', 'ARS_Marina_Test_Fall_Sensor_Right', 'ARS_Marina_Test_JmpFall_Sensor_Right', 'ARS_Matthias_Test_StSit_Sensor_Right', 'ARS_Matthias_Test_JmpFall_Sensor_Right', 'ARS_Patrick_Test_JmpFall_Sensor_Right', 'ARS_Patrick_Test_StSit_Sensor_Right', 'ARS_Martin_Test_JmpFall_Sensor_Left', 'ARS_Martin_Test_StSit_Sensor_Left', 'ARS_Patrick_Test_WkRun_Sensor_Right', 'ARS_Susanna_Test_JmpFall_Sensor_Left', 'ARS_Susanna_Test_StSit_Sensor_Left', 'ARS_Thomas_Test_JmpFall_Sensor_Left', 'ARS_Thomas_Test_StSit_Sensor_Left', 'ARS_Cristina_Test_WkRun_Sensor_Right', 'ARS_Martin_Test_WkRun_Sensor_Left', 'ARS_Matthias_Test_WkRun_Sensor_Right', 'ARS_Susanna_Test_WkRun_Sensor_Left', 'ARS_Thomas_Test_WkRun_Sensor_Left', 'ARS_Christine_Test_JmpFall_Sensor_Right', 'ARS_Christine_Test_StSit_Sensor_Right', 'ARS_Mohammed_Test_JmpFall_Sensor_Right', 'ARS_Mohammed_Test_StSit_Sensor_Right', 'ARS_Christine_Test_WkRun_Sensor_Right', 'ARS_Mohammed_Test_WkRun_Sensor_Right'])"
      ]
     },
     "execution_count": 17,
     "metadata": {},
     "output_type": "execute_result"
    }
   ],
   "source": [
    "matfile = io.loadmat(data_dir + 'ARS_DLR_DataSet_V2.mat')\n",
    "matfile.keys()"
   ]
  },
  {
   "cell_type": "code",
   "execution_count": 18,
   "metadata": {},
   "outputs": [
    {
     "data": {
      "text/plain": [
       "['ARS_Maria_Transitions_Up_Down_Sensor_Left',\n",
       " 'ARS_Cristina_Test_JmpFall_Sensor_Right',\n",
       " 'ARS_Cristina_Test_StSit_Sensor_Right',\n",
       " 'ARS_Hanno_Test_JmpFall_Sensor_Right',\n",
       " 'ARS_Hanno_Test_StSit_Sensor_Right']"
      ]
     },
     "execution_count": 18,
     "metadata": {},
     "output_type": "execute_result"
    }
   ],
   "source": [
    "files = []\n",
    "for name in list(matfile.keys()):\n",
    "    if name.startswith('ARS'):\n",
    "        files.append(name)\n",
    "files[:5]"
   ]
  },
  {
   "cell_type": "code",
   "execution_count": 19,
   "metadata": {},
   "outputs": [
    {
     "data": {
      "text/plain": [
       "34"
      ]
     },
     "execution_count": 19,
     "metadata": {},
     "output_type": "execute_result"
    }
   ],
   "source": [
    "len(files)"
   ]
  },
  {
   "cell_type": "code",
   "execution_count": 20,
   "metadata": {},
   "outputs": [
    {
     "data": {
      "application/vnd.jupyter.widget-view+json": {
       "model_id": "8728c9734c3146838d6e28d33d300f74",
       "version_major": 2,
       "version_minor": 0
      },
      "text/plain": [
       "  0%|          | 0/34 [00:00<?, ?it/s]"
      ]
     },
     "metadata": {},
     "output_type": "display_data"
    }
   ],
   "source": [
    "xtrain2,ytrain2 = prepare_data(data_dir='ARS DLR Data Set/', file_names=files, length=128, overlap=64)"
   ]
  },
  {
   "cell_type": "code",
   "execution_count": 21,
   "metadata": {},
   "outputs": [
    {
     "data": {
      "text/plain": [
       "((14470, 128, 2, 3), (14470,))"
      ]
     },
     "execution_count": 21,
     "metadata": {},
     "output_type": "execute_result"
    }
   ],
   "source": [
    "xtrain2.shape, ytrain2.shape"
   ]
  },
  {
   "cell_type": "markdown",
   "metadata": {},
   "source": [
    "# V1, V2 합치기"
   ]
  },
  {
   "cell_type": "code",
   "execution_count": 22,
   "metadata": {},
   "outputs": [
    {
     "data": {
      "text/plain": [
       "(26997, 128, 2, 3)"
      ]
     },
     "execution_count": 22,
     "metadata": {},
     "output_type": "execute_result"
    }
   ],
   "source": [
    "xtrain=np.concatenate([xtrain1, xtrain2])\n",
    "xtrain.shape"
   ]
  },
  {
   "cell_type": "code",
   "execution_count": 23,
   "metadata": {},
   "outputs": [
    {
     "data": {
      "text/plain": [
       "(26997,)"
      ]
     },
     "execution_count": 23,
     "metadata": {},
     "output_type": "execute_result"
    }
   ],
   "source": [
    "ytrain=np.concatenate([ytrain1, ytrain2])\n",
    "ytrain.shape"
   ]
  },
  {
   "cell_type": "code",
   "execution_count": 24,
   "metadata": {},
   "outputs": [
    {
     "data": {
      "text/plain": [
       "Counter({'STNDING': 10550,\n",
       "         'SITTING': 5346,\n",
       "         'FALLING': 97,\n",
       "         'XLYINGX': 2469,\n",
       "         'JUMPFWD': 66,\n",
       "         'JUMPVRT': 73,\n",
       "         'JUMPBCK': 52,\n",
       "         'WALKUPS': 497,\n",
       "         'WALKDWS': 408,\n",
       "         'RUNNING': 1335,\n",
       "         'WALKING': 5382,\n",
       "         'TRANSDW': 99,\n",
       "         'TRANSUP': 251,\n",
       "         'TRNSACC': 22,\n",
       "         'JUMPING': 339,\n",
       "         'TRNSDCC': 11})"
      ]
     },
     "execution_count": 24,
     "metadata": {},
     "output_type": "execute_result"
    }
   ],
   "source": [
    "from collections import Counter\n",
    "Counter(ytrain)"
   ]
  },
  {
   "cell_type": "code",
   "execution_count": 157,
   "metadata": {},
   "outputs": [],
   "source": [
    "np.save('xtrain.npy',xtrain)\n",
    "np.save('ytrain.npy',ytrain)"
   ]
  },
  {
   "attachments": {},
   "cell_type": "markdown",
   "metadata": {},
   "source": [
    "# 16개의 카테고리->12개 선택"
   ]
  },
  {
   "cell_type": "code",
   "execution_count": null,
   "metadata": {},
   "outputs": [],
   "source": [
    "a=    {'STNDING': 10550,\n",
    "         'SITTING': 5346,\n",
    "         'FALLING': 97,\n",
    "         'XLYINGX': 2469,\n",
    "         'WALKUPS': 497,\n",
    "         'WALKDWS': 408,\n",
    "         'RUNNING': 1335,\n",
    "         'WALKING': 5382,\n",
    "         'TRANSDW': 99,\n",
    "         'TRANSUP': 251,\n",
    "         'TRNSACC': 22,\n",
    "         'JUMPING': 339\n",
    "         }"
   ]
  },
  {
   "cell_type": "code",
   "execution_count": null,
   "metadata": {},
   "outputs": [],
   "source": [
    "indices = np.where(np.logical_not(np.isin(ytrain, list(a.keys()))))[0]\n",
    "y=np.delete(ytrain, indices, axis=None)\n",
    "print(len(y))\n",
    "x=np.delete(xtrain, indices, axis=0)\n",
    "print(len(x))"
   ]
  },
  {
   "cell_type": "code",
   "execution_count": null,
   "metadata": {},
   "outputs": [],
   "source": [
    "#12개의 행동들로 구성된 데이터셋\n",
    "np.save('x.npy',x)\n",
    "np.save('y.npy',y)"
   ]
  }
 ],
 "metadata": {
  "kernelspec": {
   "display_name": "Python 3 (ipykernel)",
   "language": "python",
   "name": "python3"
  },
  "language_info": {
   "codemirror_mode": {
    "name": "ipython",
    "version": 3
   },
   "file_extension": ".py",
   "mimetype": "text/x-python",
   "name": "python",
   "nbconvert_exporter": "python",
   "pygments_lexer": "ipython3",
   "version": "3.9.12"
  }
 },
 "nbformat": 4,
 "nbformat_minor": 2
}
