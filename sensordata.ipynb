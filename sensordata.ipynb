{
  "nbformat": 4,
  "nbformat_minor": 0,
  "metadata": {
    "colab": {
      "provenance": []
    },
    "kernelspec": {
      "name": "python3",
      "display_name": "Python 3"
    },
    "language_info": {
      "name": "python"
    },
    "accelerator": "GPU",
    "gpuClass": "standard"
  },
  "cells": [
    {
      "cell_type": "code",
      "execution_count": 2,
      "metadata": {
        "id": "FyqmgTqhCP2Q"
      },
      "outputs": [],
      "source": [
        "'''\n",
        "ref1(dataset): http://www.cis.fordham.edu/wisdm/dataset.php\n",
        "ref2(paper): http://www.cis.fordham.edu/wisdm/includes/files/sensorKDD-2010.pdf\n",
        "ref3:\n",
        "https://towardsdatascience.com/human-activity-recognition-har-tutorial-with-keras-and-core-ml-part-1-8c05e365dfa0\n",
        "ref4:\n",
        "https://blog.goodaudience.com/introduction-to-1d-convolutional-neural-networks-in-keras-for-time-sequences-3a7ff801a2cf\n",
        "'''\n",
        "import tensorflow as tf\n",
        "import numpy as np\n",
        "import matplotlib.pyplot as plt\n",
        "\n",
        "#1\n",
        "##gpus = tf.config.experimental.list_physical_devices('GPU')\n",
        "##tf.config.experimental.set_memory_growth(gpus[0], True)\n",
        "\n",
        "#2\n",
        "def parse_end(s):\n",
        "    try:\n",
        "        return float(s[-1])\n",
        "    except:\n",
        "        return np.nan\n",
        " \n",
        "def read_data(file_path):\n",
        "# columns: 'user', 'activity', 'timestamp', 'x-accl', 'y-accl', 'z-accl';\n",
        "    labels =     {'Walking'   :0,        \n",
        "                  'Jogging'   :1,\n",
        "                  'Upstairs'  :2,\n",
        "                  'Sitting'    :3,\n",
        "                  'Downstairs':4,\n",
        "                  'Standing'   :5}    \n",
        "    data = np.loadtxt(file_path, delimiter=\",\", usecols=(0,1, 3, 4, 5), # without timestamp\n",
        "                      converters={1:lambda name: labels[name.decode()],\n",
        "                                  5: parse_end})\n",
        "    data = data[~np.isnan(data).any(axis=1)] # remove rows with np.nan\n",
        "    return data\n",
        "\n",
        "# Load data set containing all the data from csv\n",
        "data = read_data(\"/content/drive/MyDrive/WISDM_ar_v1.1_raw.txt\")\n",
        "##print(\"user:\",     np.unique(data[:,0])) # 36 users\n",
        "##print(\"activity:\", np.unique(data[:,1])) # 6 activity\n",
        "\n"
      ]
    },
    {
      "cell_type": "code",
      "source": [
        "data"
      ],
      "metadata": {
        "colab": {
          "base_uri": "https://localhost:8080/"
        },
        "id": "KHcgRLvOJExi",
        "outputId": "dc14b260-7be6-4c5a-a552-ecc8771d1b0e"
      },
      "execution_count": 3,
      "outputs": [
        {
          "output_type": "execute_result",
          "data": {
            "text/plain": [
              "array([[33.       ,  1.       , -0.6946377, 12.680544 , 59.       ],\n",
              "       [33.       ,  1.       ,  5.012288 , 11.264028 , 59.       ],\n",
              "       [33.       ,  1.       ,  4.903325 , 10.882658 , 59.       ],\n",
              "       ...,\n",
              "       [19.       ,  3.       ,  9.08     , -1.38     , 59.       ],\n",
              "       [19.       ,  3.       ,  9.       , -1.46     , 59.       ],\n",
              "       [19.       ,  3.       ,  8.88     , -1.33     , 59.       ]])"
            ]
          },
          "metadata": {},
          "execution_count": 3
        }
      ]
    },
    {
      "cell_type": "code",
      "source": [
        "#3: normalize x, y, z\n",
        "mean = np.mean(data[:,2:], axis = 0)\n",
        "std  = np.std(data[:,2:], axis = 0)\n",
        "data[:,2:] = (data[:,2:]-mean)/std\n",
        "##data[:,2:] = (data[:,2:])/np.max(data[:,2:], axis = 0) # [ -1, 1]\n",
        "##print(np.mean(data[:, 2:], axis = 0)) # [0, 0, 0]\n",
        "##print(np.std(data[:, 2:], axis = 0))  # [1, 1, 1]\n",
        "\n",
        "# split data into x-train and x_test\n",
        "x_train = data[data[:,0] <= 28] #[28, 36]\n",
        "x_test  = data[data[:,0]  > 28]"
      ],
      "metadata": {
        "id": "etnoaVu4JVEF"
      },
      "execution_count": 4,
      "outputs": []
    }
  ]
}